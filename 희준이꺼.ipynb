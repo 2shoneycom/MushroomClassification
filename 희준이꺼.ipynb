{
 "cells": [
  {
   "cell_type": "code",
   "execution_count": 1,
   "metadata": {},
   "outputs": [],
   "source": [
    "from tensorflow.keras.preprocessing.image import ImageDataGenerator\n",
    "from tensorflow.keras.models import Sequential\n",
    "from tensorflow.keras.layers import Conv2D, MaxPooling2D, Flatten, Dense, Dropout\n",
    "import tensorflow as tf"
   ]
  },
  {
   "cell_type": "code",
   "execution_count": 2,
   "metadata": {},
   "outputs": [
    {
     "name": "stdout",
     "output_type": "stream",
     "text": [
      "Found 77373 images belonging to 100 classes.\n",
      "Found 10587 images belonging to 100 classes.\n"
     ]
    }
   ],
   "source": [
    "# 경로 설정\n",
    "train_dir = 'C:\\\\WorkSpace\\\\Machine Learning\\\\dataset_v2\\\\dataset'\n",
    "test_dir = 'C:\\\\WorkSpace\\\\Machine Learning\\\\testset(300x300)\\\\testset(300x300)'\n",
    "\n",
    "# ImageDataGenerator 설정 (데이터 증강 없이 단순 스케일링만 적용)\n",
    "test_datagen = ImageDataGenerator(rescale=1.0/255)\n",
    "train_datagen = ImageDataGenerator(\n",
    "    rescale=1.0/255,\n",
    "    rotation_range=20,\n",
    "    width_shift_range=0.2,\n",
    "    height_shift_range=0.2,\n",
    "    shear_range=0.2,\n",
    "    zoom_range=0.2,\n",
    "    horizontal_flip=True,\n",
    "    fill_mode='nearest'\n",
    ")\n",
    "# 배치 단위로 이미지를 불러오기\n",
    "train_generator = train_datagen.flow_from_directory(\n",
    "    train_dir,\n",
    "    target_size=(300, 300),   # 이미지를 300x300으로 리사이즈\n",
    "    batch_size=64,\n",
    "    class_mode='sparse',      # 레이블을 정수형으로 반환\n",
    "    shuffle=True              # 데이터 셔플 (섞기)\n",
    ")\n",
    "\n",
    "test_generator = test_datagen.flow_from_directory(\n",
    "    test_dir,\n",
    "    target_size=(300, 300),\n",
    "    batch_size=32,\n",
    "    class_mode='sparse',\n",
    "    shuffle=False             # 테스트 데이터는 셔플하지 않음\n",
    ")"
   ]
  },
  {
   "cell_type": "code",
   "execution_count": 5,
   "metadata": {},
   "outputs": [],
   "source": [
    "# 간단한 모델 생성\n",
    "model = Sequential([\n",
    "    Conv2D(32, (3, 3), activation='relu', input_shape=(300, 300, 3)),\n",
    "    MaxPooling2D((2, 2)),\n",
    "    Conv2D(64, (3, 3), activation='relu'),\n",
    "    MaxPooling2D((2, 2)),\n",
    "    Conv2D(128, (3, 3), activation='relu'),\n",
    "    MaxPooling2D((2, 2)),\n",
    "    Conv2D(256, (3, 3), activation='relu'),\n",
    "    MaxPooling2D((2, 2)),\n",
    "    Flatten(),\n",
    "    Dropout(0.5),\n",
    "    Dense(256, activation='relu'),\n",
    "    Dense(100, activation='softmax')  # 100개의 클래스로 분류\n",
    "])\n",
    "\n",
    "model.compile(optimizer='adam', loss='sparse_categorical_crossentropy', metrics=['accuracy'])"
   ]
  },
  {
   "cell_type": "code",
   "execution_count": null,
   "metadata": {},
   "outputs": [
    {
     "name": "stdout",
     "output_type": "stream",
     "text": [
      "Epoch 1/30\n",
      "1209/1209 [==============================] - 1309s 1s/step - loss: 3.1692 - accuracy: 0.2608 - val_loss: 2.8521 - val_accuracy: 0.2772\n",
      "Epoch 2/30\n",
      "1209/1209 [==============================] - 1547s 1s/step - loss: 2.4051 - accuracy: 0.3952 - val_loss: 2.6260 - val_accuracy: 0.3167\n",
      "Epoch 3/30\n",
      "1209/1209 [==============================] - 1551s 1s/step - loss: 2.0857 - accuracy: 0.4597 - val_loss: 2.1536 - val_accuracy: 0.4217\n",
      "Epoch 4/30\n",
      "1209/1209 [==============================] - 1547s 1s/step - loss: 1.9056 - accuracy: 0.4996 - val_loss: 1.9415 - val_accuracy: 0.4722\n",
      "Epoch 5/30\n",
      "1209/1209 [==============================] - 1550s 1s/step - loss: 1.7878 - accuracy: 0.5248 - val_loss: 1.8367 - val_accuracy: 0.4973\n",
      "Epoch 6/30\n",
      "1209/1209 [==============================] - 1549s 1s/step - loss: 1.6931 - accuracy: 0.5460 - val_loss: 1.7535 - val_accuracy: 0.5191\n",
      "Epoch 7/30\n",
      "1209/1209 [==============================] - 1549s 1s/step - loss: 1.6205 - accuracy: 0.5646 - val_loss: 1.6329 - val_accuracy: 0.5496\n",
      "Epoch 8/30\n",
      "1209/1209 [==============================] - 1549s 1s/step - loss: 1.5728 - accuracy: 0.5737 - val_loss: 1.6082 - val_accuracy: 0.5544\n",
      "Epoch 9/30\n",
      "1209/1209 [==============================] - 1552s 1s/step - loss: 1.5229 - accuracy: 0.5871 - val_loss: 1.6250 - val_accuracy: 0.5514\n",
      "Epoch 10/30\n",
      "1209/1209 [==============================] - 1546s 1s/step - loss: 1.4806 - accuracy: 0.5974 - val_loss: 1.5591 - val_accuracy: 0.5693\n",
      "Epoch 11/30\n",
      "1209/1209 [==============================] - 1549s 1s/step - loss: 1.4470 - accuracy: 0.6062 - val_loss: 1.5084 - val_accuracy: 0.5770\n",
      "Epoch 12/30\n",
      "1209/1209 [==============================] - 1550s 1s/step - loss: 1.4169 - accuracy: 0.6129 - val_loss: 1.4914 - val_accuracy: 0.5863\n",
      "Epoch 13/30\n",
      "1209/1209 [==============================] - 1547s 1s/step - loss: 1.4002 - accuracy: 0.6193 - val_loss: 1.4446 - val_accuracy: 0.5912\n",
      "Epoch 14/30\n",
      "1209/1209 [==============================] - 1548s 1s/step - loss: 1.3714 - accuracy: 0.6237 - val_loss: 1.4295 - val_accuracy: 0.6045\n",
      "Epoch 15/30\n",
      "1209/1209 [==============================] - 1550s 1s/step - loss: 1.3510 - accuracy: 0.6298 - val_loss: 1.3442 - val_accuracy: 0.6151\n",
      "Epoch 16/30\n",
      "1209/1209 [==============================] - 1550s 1s/step - loss: 1.3391 - accuracy: 0.6328 - val_loss: 1.4592 - val_accuracy: 0.5895\n",
      "Epoch 17/30\n",
      "1209/1209 [==============================] - 1551s 1s/step - loss: 1.3105 - accuracy: 0.6374 - val_loss: 1.3750 - val_accuracy: 0.6100\n",
      "Epoch 18/30\n",
      "1209/1209 [==============================] - 1551s 1s/step - loss: 1.3061 - accuracy: 0.6387 - val_loss: 1.3799 - val_accuracy: 0.6178\n",
      "Epoch 19/30\n",
      "1209/1209 [==============================] - 1550s 1s/step - loss: 1.2937 - accuracy: 0.6439 - val_loss: 1.3523 - val_accuracy: 0.6189\n",
      "Epoch 20/30\n",
      "1209/1209 [==============================] - 1551s 1s/step - loss: 1.2761 - accuracy: 0.6493 - val_loss: 1.4012 - val_accuracy: 0.6165\n",
      "Epoch 21/30\n",
      "1209/1209 [==============================] - 1553s 1s/step - loss: 1.2692 - accuracy: 0.6484 - val_loss: 1.3733 - val_accuracy: 0.6136\n",
      "Epoch 22/30\n",
      "1209/1209 [==============================] - 1551s 1s/step - loss: 1.2587 - accuracy: 0.6500 - val_loss: 1.3224 - val_accuracy: 0.6230\n",
      "Epoch 23/30\n",
      "1209/1209 [==============================] - 1550s 1s/step - loss: 1.2541 - accuracy: 0.6530 - val_loss: 1.2578 - val_accuracy: 0.6442\n",
      "Epoch 24/30\n",
      "1209/1209 [==============================] - 1552s 1s/step - loss: 1.2342 - accuracy: 0.6579 - val_loss: 1.2786 - val_accuracy: 0.6400\n",
      "Epoch 25/30\n",
      "1209/1209 [==============================] - 1433s 1s/step - loss: 1.2305 - accuracy: 0.6588 - val_loss: 1.2900 - val_accuracy: 0.6395\n",
      "Epoch 26/30\n",
      "1209/1209 [==============================] - 1108s 916ms/step - loss: 1.2244 - accuracy: 0.6618 - val_loss: 1.3515 - val_accuracy: 0.6227\n",
      "Epoch 27/30\n",
      "1209/1209 [==============================] - 1553s 1s/step - loss: 1.2159 - accuracy: 0.6621 - val_loss: 1.3101 - val_accuracy: 0.6324\n",
      "Epoch 28/30\n",
      "1209/1209 [==============================] - 1554s 1s/step - loss: 1.2117 - accuracy: 0.6621 - val_loss: 1.2612 - val_accuracy: 0.6451\n",
      "Epoch 29/30\n",
      " 344/1209 [=======>......................] - ETA: 17:13 - loss: 1.1994 - accuracy: 0.6657"
     ]
    }
   ],
   "source": [
    "from tensorflow import keras\n",
    "\n",
    "callbacks = [\n",
    "    keras.callbacks.ModelCheckpoint(\n",
    "        filepath=\"convent_from_scratch.h5\",\n",
    "        save_best_only=True,\n",
    "        monitor=\"val_loss\")\n",
    "]\n",
    "\n",
    "history = model.fit(\n",
    "    train_generator,\n",
    "    epochs=30,\n",
    "    validation_data=test_generator,\n",
    "    callbacks=callbacks\n",
    ")"
   ]
  },
  {
   "cell_type": "code",
   "execution_count": null,
   "metadata": {},
   "outputs": [],
   "source": [
    "import matplotlib.pyplot as plt\n",
    "\n",
    "accuracy = history.history[\"accuracy\"]\n",
    "val_accuracy = history.history[\"val_accuracy\"]\n",
    "loss = history.history[\"loss\"]\n",
    "val_loss = history.history[\"val_loss\"]\n",
    "epochs = range(1, len(accuracy)+1)\n",
    "plt.plot(epochs, accuracy, \"bo\", label=\"Training accuracy\")\n",
    "plt.plot(epochs, val_accuracy, \"b\", label=\"Validation accuracy\")\n",
    "plt.title(\"Training and validation accuracy\")\n",
    "plt.legend()\n",
    "plt.figure()\n",
    "plt.plot(epochs, loss, \"bo\", label=\"Training loss\")\n",
    "plt.plot(epochs, val_loss, \"b\", label=\"Validation loss\")\n",
    "plt.legend()\n",
    "plt.show()"
   ]
  },
  {
   "cell_type": "code",
   "execution_count": null,
   "metadata": {},
   "outputs": [],
   "source": [
    "test_loss, test_accuracy = model.evaluate(test_generator)\n",
    "print(f\"Test Loss: {test_loss}\")\n",
    "print(f\"Test Accuracy: {test_accuracy}\")"
   ]
  },
  {
   "cell_type": "code",
   "execution_count": null,
   "metadata": {},
   "outputs": [],
   "source": []
  }
 ],
 "metadata": {
  "kernelspec": {
   "display_name": "test2",
   "language": "python",
   "name": "mltest2"
  },
  "language_info": {
   "codemirror_mode": {
    "name": "ipython",
    "version": 3
   },
   "file_extension": ".py",
   "mimetype": "text/x-python",
   "name": "python",
   "nbconvert_exporter": "python",
   "pygments_lexer": "ipython3",
   "version": "3.7.16"
  }
 },
 "nbformat": 4,
 "nbformat_minor": 4
}
