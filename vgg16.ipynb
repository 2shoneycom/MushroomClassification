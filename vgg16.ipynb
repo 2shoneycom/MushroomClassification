{
 "cells": [
  {
   "cell_type": "code",
   "execution_count": 1,
   "metadata": {},
   "outputs": [],
   "source": [
    "from tensorflow.keras.preprocessing.image import ImageDataGenerator\n",
    "from tensorflow.keras.models import Sequential\n",
    "from tensorflow.keras.layers import Conv2D, MaxPooling2D, Flatten, Dense\n",
    "import tensorflow as tf\n",
    "import matplotlib.pyplot as plt\n",
    "from tensorflow.keras.applications import VGG16\n",
    "from tensorflow.keras.optimizers import Adam"
   ]
  },
  {
   "cell_type": "code",
   "execution_count": 3,
   "metadata": {},
   "outputs": [],
   "source": [
    "import ssl\n",
    "\n",
    "ssl._create_default_https_context = ssl._create_unverified_context"
   ]
  },
  {
   "cell_type": "code",
   "execution_count": 5,
   "metadata": {},
   "outputs": [],
   "source": [
    "# VGG16 모델 불러오기 (사전 학습된 가중치 사용, 마지막 분류 레이어 제외)\n",
    "base_model = VGG16(weights='imagenet', include_top=False, input_shape=(300, 300, 3))"
   ]
  },
  {
   "cell_type": "code",
   "execution_count": 7,
   "metadata": {},
   "outputs": [
    {
     "name": "stdout",
     "output_type": "stream",
     "text": [
      "Found 38280 images belonging to 100 classes.\n",
      "Found 4211 images belonging to 100 classes.\n",
      "Found 10587 images belonging to 100 classes.\n"
     ]
    }
   ],
   "source": [
    "# 경로 설정\n",
    "train_dir = 'C:/Users/intel/Downloads/trainset(300x300)'\n",
    "test_dir = 'C:/Users/intel/Downloads/testset(300x300)'\n",
    "\n",
    "# ImageDataGenerator 설정 (데이터 증강 없이 단순 스케일링만 적용)\n",
    "train_datagen = ImageDataGenerator(rescale=1.0/255, validation_split=0.1)\n",
    "test_datagen = ImageDataGenerator(rescale=1.0/255)\n",
    "\n",
    "# 훈련용 데이터 생성기\n",
    "train_generator = train_datagen.flow_from_directory(\n",
    "    train_dir,\n",
    "    target_size=(300, 300),\n",
    "    batch_size=32,\n",
    "    class_mode='sparse',\n",
    "    subset='training',      # 훈련용 데이터\n",
    "    shuffle=True\n",
    ")\n",
    "\n",
    "# 검증용 데이터 생성기\n",
    "validation_generator = train_datagen.flow_from_directory(\n",
    "    train_dir,\n",
    "    target_size=(300, 300),\n",
    "    batch_size=32,\n",
    "    class_mode='sparse',\n",
    "    subset='validation',    # 검증용 데이터\n",
    "    shuffle=False\n",
    ")\n",
    "\n",
    "test_generator = test_datagen.flow_from_directory(\n",
    "    test_dir,\n",
    "    target_size=(300, 300),\n",
    "    batch_size=32,\n",
    "    class_mode='sparse',\n",
    "    shuffle=False             # 테스트 데이터는 셔플하지 않음\n",
    ")"
   ]
  },
  {
   "cell_type": "code",
   "execution_count": 9,
   "metadata": {},
   "outputs": [],
   "source": [
    "# 간단한 모델 생성\n",
    "model = Sequential([\n",
    "    base_model,\n",
    "    Flatten(),\n",
    "    Dense(256, activation='relu'),\n",
    "    Dense(100, activation='softmax')  # 100개의 클래스로 분류\n",
    "])\n",
    "\n",
    "# 모든 층을 학습 가능하게 설정\n",
    "for layer in base_model.layers:\n",
    "    layer.trainable = False\n",
    "\n",
    "model.compile(optimizer='adam', loss='sparse_categorical_crossentropy', metrics=['accuracy'])"
   ]
  },
  {
   "cell_type": "code",
   "execution_count": 11,
   "metadata": {},
   "outputs": [
    {
     "name": "stdout",
     "output_type": "stream",
     "text": [
      "Epoch 1/10\n",
      "1197/1197 [==============================] - 405s 329ms/step - loss: 3.9122 - accuracy: 0.0840 - val_loss: 3.4335 - val_accuracy: 0.1221\n",
      "Epoch 2/10\n",
      "1197/1197 [==============================] - 382s 319ms/step - loss: 3.2978 - accuracy: 0.1410 - val_loss: 3.3172 - val_accuracy: 0.1332\n",
      "Epoch 3/10\n",
      "1197/1197 [==============================] - 384s 320ms/step - loss: 3.1379 - accuracy: 0.1668 - val_loss: 3.3711 - val_accuracy: 0.1282\n",
      "Epoch 4/10\n",
      "1197/1197 [==============================] - 387s 323ms/step - loss: 3.0315 - accuracy: 0.1823 - val_loss: 3.2940 - val_accuracy: 0.1460\n",
      "Epoch 5/10\n",
      "1197/1197 [==============================] - 381s 318ms/step - loss: 2.9370 - accuracy: 0.1994 - val_loss: 3.2880 - val_accuracy: 0.1544\n",
      "Epoch 6/10\n",
      "1197/1197 [==============================] - 378s 316ms/step - loss: 2.8721 - accuracy: 0.2120 - val_loss: 3.3154 - val_accuracy: 0.1579\n",
      "Epoch 7/10\n",
      "1197/1197 [==============================] - 380s 318ms/step - loss: 2.8080 - accuracy: 0.2196 - val_loss: 3.3226 - val_accuracy: 0.1584\n",
      "Epoch 8/10\n",
      "1197/1197 [==============================] - 381s 318ms/step - loss: 2.7507 - accuracy: 0.2294 - val_loss: 3.3190 - val_accuracy: 0.1634\n",
      "Epoch 9/10\n",
      "1197/1197 [==============================] - 383s 320ms/step - loss: 2.7010 - accuracy: 0.2356 - val_loss: 3.3558 - val_accuracy: 0.1679\n",
      "Epoch 10/10\n",
      "1197/1197 [==============================] - 380s 317ms/step - loss: 2.6506 - accuracy: 0.2454 - val_loss: 3.4015 - val_accuracy: 0.1710\n"
     ]
    },
    {
     "data": {
      "text/plain": [
       "<keras.callbacks.History at 0x19885d78708>"
      ]
     },
     "execution_count": 11,
     "metadata": {},
     "output_type": "execute_result"
    }
   ],
   "source": [
    "# 모델 학습\n",
    "model.fit(\n",
    "    train_generator,\n",
    "    epochs=10,\n",
    "    validation_data=validation_generator\n",
    ")"
   ]
  }
 ],
 "metadata": {
  "kernelspec": {
   "display_name": "mushroom_2_10_0",
   "language": "python",
   "name": "tf_2_10_0"
  },
  "language_info": {
   "codemirror_mode": {
    "name": "ipython",
    "version": 3
   },
   "file_extension": ".py",
   "mimetype": "text/x-python",
   "name": "python",
   "nbconvert_exporter": "python",
   "pygments_lexer": "ipython3",
   "version": "3.7.12"
  }
 },
 "nbformat": 4,
 "nbformat_minor": 4
}
