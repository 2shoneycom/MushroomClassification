{
 "cells": [
  {
   "cell_type": "code",
   "execution_count": 1,
   "metadata": {},
   "outputs": [],
   "source": [
    "from tensorflow.keras.preprocessing.image import ImageDataGenerator\n",
    "from tensorflow.keras.models import Sequential\n",
    "from tensorflow.keras.layers import Conv2D, MaxPooling2D, Flatten, Dense\n",
    "import tensorflow as tf\n",
    "from tensorflow.keras.models import load_model"
   ]
  },
  {
   "cell_type": "code",
   "execution_count": 2,
   "metadata": {},
   "outputs": [
    {
     "name": "stdout",
     "output_type": "stream",
     "text": [
      "Found 38280 images belonging to 100 classes.\n",
      "Found 4211 images belonging to 100 classes.\n",
      "Found 10587 images belonging to 100 classes.\n"
     ]
    }
   ],
   "source": [
    "# 경로 설정\n",
    "train_dir = 'C:/Users/intel/Downloads/trainset(300x300)'\n",
    "test_dir = 'C:/Users/intel/Downloads/testset(300x300)'\n",
    "\n",
    "# ImageDataGenerator 설정 (데이터 증강 없이 단순 스케일링만 적용, validation_split 포함)\n",
    "train_datagen = ImageDataGenerator(rescale=1.0/255, validation_split=0.1)\n",
    "test_datagen = ImageDataGenerator(rescale=1.0/255)\n",
    "\n",
    "# 훈련용 데이터 생성기\n",
    "train_generator = train_datagen.flow_from_directory(\n",
    "    train_dir,\n",
    "    target_size=(300, 300),\n",
    "    batch_size=32,\n",
    "    class_mode='sparse',\n",
    "    subset='training',      # 훈련용 데이터\n",
    "    shuffle=True\n",
    ")\n",
    "\n",
    "# 검증용 데이터 생성기\n",
    "validation_generator = train_datagen.flow_from_directory(\n",
    "    train_dir,\n",
    "    target_size=(300, 300),\n",
    "    batch_size=32,\n",
    "    class_mode='sparse',\n",
    "    subset='validation',    # 검증용 데이터\n",
    "    shuffle=False\n",
    ")\n",
    "\n",
    "test_generator = test_datagen.flow_from_directory(\n",
    "    test_dir,\n",
    "    target_size=(300, 300),\n",
    "    batch_size=32,\n",
    "    class_mode='sparse',\n",
    "    shuffle=False             # 테스트 데이터는 셔플하지 않음\n",
    ")"
   ]
  },
  {
   "cell_type": "code",
   "execution_count": 3,
   "metadata": {},
   "outputs": [],
   "source": [
    "# 간단한 모델 생성\n",
    "model = Sequential([\n",
    "    Conv2D(32, (3, 3), activation='relu', input_shape=(300, 300, 3)),\n",
    "    MaxPooling2D((2, 2)),\n",
    "    Conv2D(64, (3, 3), activation='relu'),\n",
    "    MaxPooling2D((2, 2)),\n",
    "    Conv2D(128, (3, 3), activation='relu'),\n",
    "    MaxPooling2D((2, 2)),\n",
    "    Flatten(),\n",
    "    Dense(256, activation='relu'),\n",
    "    Dense(100, activation='softmax')  # 100개의 클래스로 분류\n",
    "])\n",
    "\n",
    "model.compile(optimizer='adam', loss='sparse_categorical_crossentropy', metrics=['accuracy'])"
   ]
  },
  {
   "cell_type": "code",
   "execution_count": 7,
   "metadata": {},
   "outputs": [
    {
     "name": "stdout",
     "output_type": "stream",
     "text": [
      "Epoch 1/4\n",
      "1197/1197 [==============================] - 160s 132ms/step - loss: 3.7349 - accuracy: 0.1261 - val_loss: 3.1760 - val_accuracy: 0.2080\n",
      "Epoch 2/4\n",
      "1197/1197 [==============================] - 157s 131ms/step - loss: 2.7985 - accuracy: 0.2866 - val_loss: 2.7964 - val_accuracy: 0.2966\n",
      "Epoch 3/4\n",
      "1197/1197 [==============================] - 157s 131ms/step - loss: 2.0325 - accuracy: 0.4586 - val_loss: 2.8428 - val_accuracy: 0.3018\n",
      "Epoch 4/4\n",
      "1197/1197 [==============================] - 157s 131ms/step - loss: 0.9635 - accuracy: 0.7293 - val_loss: 3.6653 - val_accuracy: 0.2800\n"
     ]
    },
    {
     "data": {
      "text/plain": [
       "<keras.callbacks.History at 0x15e09060048>"
      ]
     },
     "execution_count": 7,
     "metadata": {},
     "output_type": "execute_result"
    }
   ],
   "source": [
    "# 모델 학습\n",
    "model.fit(\n",
    "    train_generator,\n",
    "    epochs=4,\n",
    "    validation_data=validation_generator\n",
    ")"
   ]
  },
  {
   "cell_type": "code",
   "execution_count": 9,
   "metadata": {},
   "outputs": [
    {
     "name": "stdout",
     "output_type": "stream",
     "text": [
      "331/331 [==============================] - 31s 92ms/step - loss: 3.6196 - accuracy: 0.2763\n",
      "Test Loss: 3.6195621490478516\n",
      "Test Accuracy: 0.2762822210788727\n"
     ]
    }
   ],
   "source": [
    "# 테스트 세트에 대한 모델 평가\n",
    "test_loss, test_accuracy = model.evaluate(test_generator)\n",
    "print(f\"Test Loss: {test_loss}\")\n",
    "print(f\"Test Accuracy: {test_accuracy}\")"
   ]
  },
  {
   "cell_type": "code",
   "execution_count": 11,
   "metadata": {},
   "outputs": [],
   "source": [
    "model.save(\"naive2DCNN.h5\")"
   ]
  },
  {
   "cell_type": "code",
   "execution_count": 13,
   "metadata": {},
   "outputs": [],
   "source": [
    "tf.keras.backend.clear_session()"
   ]
  },
  {
   "cell_type": "code",
   "execution_count": 13,
   "metadata": {},
   "outputs": [],
   "source": [
    "cnnmodel = load_model(\"naive2DCNN.h5\")"
   ]
  },
  {
   "cell_type": "code",
   "execution_count": 15,
   "metadata": {},
   "outputs": [
    {
     "name": "stdout",
     "output_type": "stream",
     "text": [
      "331/331 [==============================] - 32s 90ms/step - loss: 3.6196 - accuracy: 0.2763\n",
      "Test Loss: 3.6195621490478516\n",
      "Test Accuracy: 0.2762822210788727\n"
     ]
    }
   ],
   "source": [
    "# 테스트 세트에 대한 모델 평가\n",
    "test_loss, test_accuracy = cnnmodel.evaluate(test_generator)\n",
    "print(f\"Test Loss: {test_loss}\")\n",
    "print(f\"Test Accuracy: {test_accuracy}\")"
   ]
  },
  {
   "cell_type": "code",
   "execution_count": null,
   "metadata": {},
   "outputs": [],
   "source": []
  }
 ],
 "metadata": {
  "kernelspec": {
   "display_name": "mushroom_2_10_0",
   "language": "python",
   "name": "tf_2_10_0"
  },
  "language_info": {
   "codemirror_mode": {
    "name": "ipython",
    "version": 3
   },
   "file_extension": ".py",
   "mimetype": "text/x-python",
   "name": "python",
   "nbconvert_exporter": "python",
   "pygments_lexer": "ipython3",
   "version": "3.7.16"
  }
 },
 "nbformat": 4,
 "nbformat_minor": 4
}
